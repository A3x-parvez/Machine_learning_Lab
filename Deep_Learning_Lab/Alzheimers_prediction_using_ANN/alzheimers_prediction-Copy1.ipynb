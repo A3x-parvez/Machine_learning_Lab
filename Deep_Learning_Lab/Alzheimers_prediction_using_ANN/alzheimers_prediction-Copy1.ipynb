{
 "cells": [
  {
   "cell_type": "code",
   "execution_count": 1,
   "id": "7f06caa3-ddef-499e-8350-7a6d92379b6e",
   "metadata": {},
   "outputs": [],
   "source": [
    "import pandas as pd \n",
    "import numpy as np \n",
    "import matplotlib.pyplot as plt\n",
    "import seaborn as sns\n",
    "import tensorflow as tf\n",
    "from tensorflow import keras\n",
    "from sklearn.preprocessing import StandardScaler"
   ]
  },
  {
   "cell_type": "code",
   "execution_count": 2,
   "id": "6be82b0a-f60a-4677-8855-ea486abffc64",
   "metadata": {},
   "outputs": [],
   "source": [
    "df = pd.read_csv('alzheimers_prediction_dataset.csv')"
   ]
  },
  {
   "cell_type": "code",
   "execution_count": 3,
   "id": "b9f61188-5773-4a5e-bce4-df764ea592d8",
   "metadata": {},
   "outputs": [
    {
     "data": {
      "text/html": [
       "<div>\n",
       "<style scoped>\n",
       "    .dataframe tbody tr th:only-of-type {\n",
       "        vertical-align: middle;\n",
       "    }\n",
       "\n",
       "    .dataframe tbody tr th {\n",
       "        vertical-align: top;\n",
       "    }\n",
       "\n",
       "    .dataframe thead th {\n",
       "        text-align: right;\n",
       "    }\n",
       "</style>\n",
       "<table border=\"1\" class=\"dataframe\">\n",
       "  <thead>\n",
       "    <tr style=\"text-align: right;\">\n",
       "      <th></th>\n",
       "      <th>Country</th>\n",
       "      <th>Age</th>\n",
       "      <th>Gender</th>\n",
       "      <th>Education Level</th>\n",
       "      <th>BMI</th>\n",
       "      <th>Physical Activity Level</th>\n",
       "      <th>Smoking Status</th>\n",
       "      <th>Alcohol Consumption</th>\n",
       "      <th>Diabetes</th>\n",
       "      <th>Hypertension</th>\n",
       "      <th>...</th>\n",
       "      <th>Dietary Habits</th>\n",
       "      <th>Air Pollution Exposure</th>\n",
       "      <th>Employment Status</th>\n",
       "      <th>Marital Status</th>\n",
       "      <th>Genetic Risk Factor (APOE-ε4 allele)</th>\n",
       "      <th>Social Engagement Level</th>\n",
       "      <th>Income Level</th>\n",
       "      <th>Stress Levels</th>\n",
       "      <th>Urban vs Rural Living</th>\n",
       "      <th>Alzheimer’s Diagnosis</th>\n",
       "    </tr>\n",
       "  </thead>\n",
       "  <tbody>\n",
       "    <tr>\n",
       "      <th>0</th>\n",
       "      <td>Spain</td>\n",
       "      <td>90</td>\n",
       "      <td>Male</td>\n",
       "      <td>1</td>\n",
       "      <td>33.0</td>\n",
       "      <td>Medium</td>\n",
       "      <td>Never</td>\n",
       "      <td>Occasionally</td>\n",
       "      <td>No</td>\n",
       "      <td>No</td>\n",
       "      <td>...</td>\n",
       "      <td>Healthy</td>\n",
       "      <td>High</td>\n",
       "      <td>Retired</td>\n",
       "      <td>Single</td>\n",
       "      <td>No</td>\n",
       "      <td>Low</td>\n",
       "      <td>Medium</td>\n",
       "      <td>High</td>\n",
       "      <td>Urban</td>\n",
       "      <td>No</td>\n",
       "    </tr>\n",
       "    <tr>\n",
       "      <th>1</th>\n",
       "      <td>Argentina</td>\n",
       "      <td>72</td>\n",
       "      <td>Male</td>\n",
       "      <td>7</td>\n",
       "      <td>29.9</td>\n",
       "      <td>Medium</td>\n",
       "      <td>Former</td>\n",
       "      <td>Never</td>\n",
       "      <td>No</td>\n",
       "      <td>No</td>\n",
       "      <td>...</td>\n",
       "      <td>Healthy</td>\n",
       "      <td>Medium</td>\n",
       "      <td>Unemployed</td>\n",
       "      <td>Widowed</td>\n",
       "      <td>No</td>\n",
       "      <td>High</td>\n",
       "      <td>Low</td>\n",
       "      <td>High</td>\n",
       "      <td>Urban</td>\n",
       "      <td>No</td>\n",
       "    </tr>\n",
       "    <tr>\n",
       "      <th>2</th>\n",
       "      <td>South Africa</td>\n",
       "      <td>86</td>\n",
       "      <td>Female</td>\n",
       "      <td>19</td>\n",
       "      <td>22.9</td>\n",
       "      <td>High</td>\n",
       "      <td>Current</td>\n",
       "      <td>Occasionally</td>\n",
       "      <td>No</td>\n",
       "      <td>Yes</td>\n",
       "      <td>...</td>\n",
       "      <td>Average</td>\n",
       "      <td>Medium</td>\n",
       "      <td>Employed</td>\n",
       "      <td>Single</td>\n",
       "      <td>No</td>\n",
       "      <td>Low</td>\n",
       "      <td>Medium</td>\n",
       "      <td>High</td>\n",
       "      <td>Rural</td>\n",
       "      <td>No</td>\n",
       "    </tr>\n",
       "    <tr>\n",
       "      <th>3</th>\n",
       "      <td>China</td>\n",
       "      <td>53</td>\n",
       "      <td>Male</td>\n",
       "      <td>17</td>\n",
       "      <td>31.2</td>\n",
       "      <td>Low</td>\n",
       "      <td>Never</td>\n",
       "      <td>Regularly</td>\n",
       "      <td>Yes</td>\n",
       "      <td>No</td>\n",
       "      <td>...</td>\n",
       "      <td>Healthy</td>\n",
       "      <td>Medium</td>\n",
       "      <td>Retired</td>\n",
       "      <td>Single</td>\n",
       "      <td>No</td>\n",
       "      <td>High</td>\n",
       "      <td>Medium</td>\n",
       "      <td>Low</td>\n",
       "      <td>Rural</td>\n",
       "      <td>No</td>\n",
       "    </tr>\n",
       "    <tr>\n",
       "      <th>4</th>\n",
       "      <td>Sweden</td>\n",
       "      <td>58</td>\n",
       "      <td>Female</td>\n",
       "      <td>3</td>\n",
       "      <td>30.0</td>\n",
       "      <td>High</td>\n",
       "      <td>Former</td>\n",
       "      <td>Never</td>\n",
       "      <td>Yes</td>\n",
       "      <td>No</td>\n",
       "      <td>...</td>\n",
       "      <td>Unhealthy</td>\n",
       "      <td>High</td>\n",
       "      <td>Employed</td>\n",
       "      <td>Married</td>\n",
       "      <td>No</td>\n",
       "      <td>Low</td>\n",
       "      <td>Medium</td>\n",
       "      <td>High</td>\n",
       "      <td>Rural</td>\n",
       "      <td>No</td>\n",
       "    </tr>\n",
       "  </tbody>\n",
       "</table>\n",
       "<p>5 rows × 25 columns</p>\n",
       "</div>"
      ],
      "text/plain": [
       "        Country  Age  Gender  Education Level   BMI Physical Activity Level  \\\n",
       "0         Spain   90    Male                1  33.0                  Medium   \n",
       "1     Argentina   72    Male                7  29.9                  Medium   \n",
       "2  South Africa   86  Female               19  22.9                    High   \n",
       "3         China   53    Male               17  31.2                     Low   \n",
       "4        Sweden   58  Female                3  30.0                    High   \n",
       "\n",
       "  Smoking Status Alcohol Consumption Diabetes Hypertension  ...  \\\n",
       "0          Never        Occasionally       No           No  ...   \n",
       "1         Former               Never       No           No  ...   \n",
       "2        Current        Occasionally       No          Yes  ...   \n",
       "3          Never           Regularly      Yes           No  ...   \n",
       "4         Former               Never      Yes           No  ...   \n",
       "\n",
       "  Dietary Habits Air Pollution Exposure  Employment Status Marital Status  \\\n",
       "0        Healthy                   High            Retired         Single   \n",
       "1        Healthy                 Medium         Unemployed        Widowed   \n",
       "2        Average                 Medium           Employed         Single   \n",
       "3        Healthy                 Medium            Retired         Single   \n",
       "4      Unhealthy                   High           Employed        Married   \n",
       "\n",
       "  Genetic Risk Factor (APOE-ε4 allele) Social Engagement Level Income Level  \\\n",
       "0                                   No                     Low       Medium   \n",
       "1                                   No                    High          Low   \n",
       "2                                   No                     Low       Medium   \n",
       "3                                   No                    High       Medium   \n",
       "4                                   No                     Low       Medium   \n",
       "\n",
       "  Stress Levels Urban vs Rural Living Alzheimer’s Diagnosis  \n",
       "0          High                 Urban                    No  \n",
       "1          High                 Urban                    No  \n",
       "2          High                 Rural                    No  \n",
       "3           Low                 Rural                    No  \n",
       "4          High                 Rural                    No  \n",
       "\n",
       "[5 rows x 25 columns]"
      ]
     },
     "execution_count": 3,
     "metadata": {},
     "output_type": "execute_result"
    }
   ],
   "source": [
    "df.head()"
   ]
  },
  {
   "cell_type": "code",
   "execution_count": 4,
   "id": "da9700b6-37d5-44e9-83ed-4ef5dd2d6952",
   "metadata": {},
   "outputs": [
    {
     "data": {
      "text/plain": [
       "Country                                 0\n",
       "Age                                     0\n",
       "Gender                                  0\n",
       "Education Level                         0\n",
       "BMI                                     0\n",
       "Physical Activity Level                 0\n",
       "Smoking Status                          0\n",
       "Alcohol Consumption                     0\n",
       "Diabetes                                0\n",
       "Hypertension                            0\n",
       "Cholesterol Level                       0\n",
       "Family History of Alzheimer’s           0\n",
       "Cognitive Test Score                    0\n",
       "Depression Level                        0\n",
       "Sleep Quality                           0\n",
       "Dietary Habits                          0\n",
       "Air Pollution Exposure                  0\n",
       "Employment Status                       0\n",
       "Marital Status                          0\n",
       "Genetic Risk Factor (APOE-ε4 allele)    0\n",
       "Social Engagement Level                 0\n",
       "Income Level                            0\n",
       "Stress Levels                           0\n",
       "Urban vs Rural Living                   0\n",
       "Alzheimer’s Diagnosis                   0\n",
       "dtype: int64"
      ]
     },
     "execution_count": 4,
     "metadata": {},
     "output_type": "execute_result"
    }
   ],
   "source": [
    "df.isnull().sum()"
   ]
  },
  {
   "cell_type": "code",
   "execution_count": 5,
   "id": "647c58a5-d779-4ea5-af18-ef103719f10c",
   "metadata": {},
   "outputs": [
    {
     "name": "stdout",
     "output_type": "stream",
     "text": [
      "<class 'pandas.core.frame.DataFrame'>\n",
      "RangeIndex: 74283 entries, 0 to 74282\n",
      "Data columns (total 25 columns):\n",
      " #   Column                                Non-Null Count  Dtype  \n",
      "---  ------                                --------------  -----  \n",
      " 0   Country                               74283 non-null  object \n",
      " 1   Age                                   74283 non-null  int64  \n",
      " 2   Gender                                74283 non-null  object \n",
      " 3   Education Level                       74283 non-null  int64  \n",
      " 4   BMI                                   74283 non-null  float64\n",
      " 5   Physical Activity Level               74283 non-null  object \n",
      " 6   Smoking Status                        74283 non-null  object \n",
      " 7   Alcohol Consumption                   74283 non-null  object \n",
      " 8   Diabetes                              74283 non-null  object \n",
      " 9   Hypertension                          74283 non-null  object \n",
      " 10  Cholesterol Level                     74283 non-null  object \n",
      " 11  Family History of Alzheimer’s         74283 non-null  object \n",
      " 12  Cognitive Test Score                  74283 non-null  int64  \n",
      " 13  Depression Level                      74283 non-null  object \n",
      " 14  Sleep Quality                         74283 non-null  object \n",
      " 15  Dietary Habits                        74283 non-null  object \n",
      " 16  Air Pollution Exposure                74283 non-null  object \n",
      " 17  Employment Status                     74283 non-null  object \n",
      " 18  Marital Status                        74283 non-null  object \n",
      " 19  Genetic Risk Factor (APOE-ε4 allele)  74283 non-null  object \n",
      " 20  Social Engagement Level               74283 non-null  object \n",
      " 21  Income Level                          74283 non-null  object \n",
      " 22  Stress Levels                         74283 non-null  object \n",
      " 23  Urban vs Rural Living                 74283 non-null  object \n",
      " 24  Alzheimer’s Diagnosis                 74283 non-null  object \n",
      "dtypes: float64(1), int64(3), object(21)\n",
      "memory usage: 14.2+ MB\n"
     ]
    }
   ],
   "source": [
    "df.info()"
   ]
  },
  {
   "cell_type": "code",
   "execution_count": 6,
   "id": "efc75d16-9c9b-4da8-8a74-b16025c3568a",
   "metadata": {},
   "outputs": [
    {
     "data": {
      "text/plain": [
       "(74283, 25)"
      ]
     },
     "execution_count": 6,
     "metadata": {},
     "output_type": "execute_result"
    }
   ],
   "source": [
    "df.shape"
   ]
  },
  {
   "cell_type": "code",
   "execution_count": 7,
   "id": "75dc05e2-e646-4812-9473-4c1927b40f62",
   "metadata": {},
   "outputs": [],
   "source": [
    "pd.set_option('display.max_columns',None)\n",
    "pd.set_option('display.max_rows',None)"
   ]
  },
  {
   "cell_type": "code",
   "execution_count": 8,
   "id": "1644eca3-d136-46bd-ae40-bff58034e705",
   "metadata": {},
   "outputs": [],
   "source": [
    "df.drop(columns='Education Level',inplace=True)"
   ]
  },
  {
   "cell_type": "code",
   "execution_count": 9,
   "id": "9205506b-02d3-4296-a828-a054b890b459",
   "metadata": {},
   "outputs": [
    {
     "data": {
      "text/plain": [
       "(74283, 24)"
      ]
     },
     "execution_count": 9,
     "metadata": {},
     "output_type": "execute_result"
    }
   ],
   "source": [
    "df.shape"
   ]
  },
  {
   "cell_type": "code",
   "execution_count": 10,
   "id": "82d5495a-5b03-4a53-9ee2-7ee0b1fc287e",
   "metadata": {},
   "outputs": [
    {
     "name": "stdout",
     "output_type": "stream",
     "text": [
      "Value counts for column: Country\n",
      "\n",
      "Country\n",
      "Brazil          3839\n",
      "Germany         3807\n",
      "Australia       3787\n",
      "Russia          3778\n",
      "South Africa    3760\n",
      "Japan           3751\n",
      "India           3741\n",
      "South Korea     3732\n",
      "Argentina       3731\n",
      "Italy           3724\n",
      "Canada          3711\n",
      "France          3710\n",
      "Norway          3706\n",
      "Spain           3698\n",
      "Sweden          3689\n",
      "Saudi Arabia    3662\n",
      "UK              3651\n",
      "USA             3616\n",
      "Mexico          3598\n",
      "China           3592\n",
      "Name: count, dtype: int64 \n",
      "----------------------------------------\n",
      "\n",
      "Value counts for column: Gender\n",
      "\n",
      "Gender\n",
      "Female    37249\n",
      "Male      37034\n",
      "Name: count, dtype: int64 \n",
      "----------------------------------------\n",
      "\n",
      "Value counts for column: Physical Activity Level\n",
      "\n",
      "Physical Activity Level\n",
      "High      24853\n",
      "Low       24754\n",
      "Medium    24676\n",
      "Name: count, dtype: int64 \n",
      "----------------------------------------\n",
      "\n",
      "Value counts for column: Smoking Status\n",
      "\n",
      "Smoking Status\n",
      "Current    24915\n",
      "Never      24740\n",
      "Former     24628\n",
      "Name: count, dtype: int64 \n",
      "----------------------------------------\n",
      "\n",
      "Value counts for column: Alcohol Consumption\n",
      "\n",
      "Alcohol Consumption\n",
      "Never           24865\n",
      "Regularly       24738\n",
      "Occasionally    24680\n",
      "Name: count, dtype: int64 \n",
      "----------------------------------------\n",
      "\n",
      "Value counts for column: Diabetes\n",
      "\n",
      "Diabetes\n",
      "No     59527\n",
      "Yes    14756\n",
      "Name: count, dtype: int64 \n",
      "----------------------------------------\n",
      "\n",
      "Value counts for column: Hypertension\n",
      "\n",
      "Hypertension\n",
      "No     52134\n",
      "Yes    22149\n",
      "Name: count, dtype: int64 \n",
      "----------------------------------------\n",
      "\n",
      "Value counts for column: Cholesterol Level\n",
      "\n",
      "Cholesterol Level\n",
      "Normal    51973\n",
      "High      22310\n",
      "Name: count, dtype: int64 \n",
      "----------------------------------------\n",
      "\n",
      "Value counts for column: Family History of Alzheimer’s\n",
      "\n",
      "Family History of Alzheimer’s\n",
      "No     52004\n",
      "Yes    22279\n",
      "Name: count, dtype: int64 \n",
      "----------------------------------------\n",
      "\n",
      "Value counts for column: Depression Level\n",
      "\n",
      "Depression Level\n",
      "Medium    24843\n",
      "Low       24758\n",
      "High      24682\n",
      "Name: count, dtype: int64 \n",
      "----------------------------------------\n",
      "\n",
      "Value counts for column: Sleep Quality\n",
      "\n",
      "Sleep Quality\n",
      "Good       25145\n",
      "Average    24715\n",
      "Poor       24423\n",
      "Name: count, dtype: int64 \n",
      "----------------------------------------\n",
      "\n",
      "Value counts for column: Dietary Habits\n",
      "\n",
      "Dietary Habits\n",
      "Average      24917\n",
      "Healthy      24688\n",
      "Unhealthy    24678\n",
      "Name: count, dtype: int64 \n",
      "----------------------------------------\n",
      "\n",
      "Value counts for column: Air Pollution Exposure\n",
      "\n",
      "Air Pollution Exposure\n",
      "High      24906\n",
      "Medium    24721\n",
      "Low       24656\n",
      "Name: count, dtype: int64 \n",
      "----------------------------------------\n",
      "\n",
      "Value counts for column: Employment Status\n",
      "\n",
      "Employment Status\n",
      "Unemployed    24801\n",
      "Employed      24755\n",
      "Retired       24727\n",
      "Name: count, dtype: int64 \n",
      "----------------------------------------\n",
      "\n",
      "Value counts for column: Marital Status\n",
      "\n",
      "Marital Status\n",
      "Single     25169\n",
      "Married    24573\n",
      "Widowed    24541\n",
      "Name: count, dtype: int64 \n",
      "----------------------------------------\n",
      "\n",
      "Value counts for column: Genetic Risk Factor (APOE-ε4 allele)\n",
      "\n",
      "Genetic Risk Factor (APOE-ε4 allele)\n",
      "No     59561\n",
      "Yes    14722\n",
      "Name: count, dtype: int64 \n",
      "----------------------------------------\n",
      "\n",
      "Value counts for column: Social Engagement Level\n",
      "\n",
      "Social Engagement Level\n",
      "Medium    24859\n",
      "Low       24727\n",
      "High      24697\n",
      "Name: count, dtype: int64 \n",
      "----------------------------------------\n",
      "\n",
      "Value counts for column: Income Level\n",
      "\n",
      "Income Level\n",
      "Low       24873\n",
      "High      24848\n",
      "Medium    24562\n",
      "Name: count, dtype: int64 \n",
      "----------------------------------------\n",
      "\n",
      "Value counts for column: Stress Levels\n",
      "\n",
      "Stress Levels\n",
      "Medium    24886\n",
      "Low       24730\n",
      "High      24667\n",
      "Name: count, dtype: int64 \n",
      "----------------------------------------\n",
      "\n",
      "Value counts for column: Urban vs Rural Living\n",
      "\n",
      "Urban vs Rural Living\n",
      "Rural    37203\n",
      "Urban    37080\n",
      "Name: count, dtype: int64 \n",
      "----------------------------------------\n",
      "\n",
      "Value counts for column: Alzheimer’s Diagnosis\n",
      "\n",
      "Alzheimer’s Diagnosis\n",
      "No     43570\n",
      "Yes    30713\n",
      "Name: count, dtype: int64 \n",
      "----------------------------------------\n",
      "\n"
     ]
    }
   ],
   "source": [
    "categorical_cols = df.select_dtypes(include=['object', 'category']).columns  # Select categorical columns\n",
    "\n",
    "for col in categorical_cols:\n",
    "    print(f\"Value counts for column: {col}\\n\")\n",
    "    print(df[col].value_counts(), \"\\n\" + \"-\"*40 + \"\\n\")  # Display counts for each unique value\n"
   ]
  },
  {
   "cell_type": "code",
   "execution_count": 11,
   "id": "5e6aad61-050b-47ad-bbc4-67246528c67a",
   "metadata": {},
   "outputs": [
    {
     "data": {
      "text/plain": [
       "Index(['Country', 'Gender', 'Physical Activity Level', 'Smoking Status',\n",
       "       'Alcohol Consumption', 'Diabetes', 'Hypertension', 'Cholesterol Level',\n",
       "       'Family History of Alzheimer’s', 'Depression Level', 'Sleep Quality',\n",
       "       'Dietary Habits', 'Air Pollution Exposure', 'Employment Status',\n",
       "       'Marital Status', 'Genetic Risk Factor (APOE-ε4 allele)',\n",
       "       'Social Engagement Level', 'Income Level', 'Stress Levels',\n",
       "       'Urban vs Rural Living', 'Alzheimer’s Diagnosis'],\n",
       "      dtype='object')"
      ]
     },
     "execution_count": 11,
     "metadata": {},
     "output_type": "execute_result"
    }
   ],
   "source": [
    "categorical_cols = df.select_dtypes(include=['object', 'category']).columns  # Select categorical columns\n",
    "categorical_cols"
   ]
  },
  {
   "cell_type": "code",
   "execution_count": 12,
   "id": "0718cc8f-7f0b-4dc8-99df-24beef80def1",
   "metadata": {},
   "outputs": [],
   "source": [
    "from sklearn.model_selection import train_test_split\n",
    "X_train,X_test,y_train,y_test = train_test_split(df.drop(columns=['Alzheimer’s Diagnosis']),df['Alzheimer’s Diagnosis'], test_size=0.2)"
   ]
  },
  {
   "cell_type": "code",
   "execution_count": 13,
   "id": "7be6331a-e4c3-4f68-aed4-0de4aee9d8be",
   "metadata": {},
   "outputs": [
    {
     "data": {
      "text/plain": [
       "((59426, 23), (14857, 23), (59426,), (14857,))"
      ]
     },
     "execution_count": 13,
     "metadata": {},
     "output_type": "execute_result"
    }
   ],
   "source": [
    "X_train.shape,X_test.shape,y_train.shape,y_test.shape"
   ]
  },
  {
   "cell_type": "code",
   "execution_count": 14,
   "id": "6fdec518-d667-4a1e-ad0a-fd509d1540af",
   "metadata": {},
   "outputs": [],
   "source": [
    "# List of nominal and ordinal columns as previously defined\n",
    "nominal_columns = [\n",
    "    'Country', 'Gender', 'Smoking Status', 'Alcohol Consumption', 'Diabetes','Hypertension',\n",
    "    'Family History of Alzheimer’s', 'Employment Status', 'Marital Status', 'Genetic Risk Factor (APOE-ε4 allele)',\n",
    "    'Urban vs Rural Living'\n",
    "]\n",
    "\n",
    "ordinal_columns = [\n",
    "    'Physical Activity Level', 'Cholesterol Level', 'Depression Level', 'Sleep Quality', 'Dietary Habits',\n",
    "    'Air Pollution Exposure', 'Social Engagement Level', 'Income Level', 'Stress Levels'\n",
    "]\n"
   ]
  },
  {
   "cell_type": "code",
   "execution_count": 15,
   "id": "0cfbcae1-aa77-4f92-b9c1-6fd70479d760",
   "metadata": {},
   "outputs": [],
   "source": [
    "# Define the categories for each ordinal feature\n",
    "category_orders = [\n",
    "    ['Low','Medium','High'], \n",
    "    ['Normal', 'High'],        \n",
    "    ['Low','Medium','High'],  \n",
    "    ['Poor','Average','Good'],  \n",
    "    ['Unhealthy', 'Average', 'Healthy'],  \n",
    "    ['Low','Medium','High'],  \n",
    "    ['Low','Medium','High'], \n",
    "    ['Low','Medium','High'],  \n",
    "    ['Low','Medium','High'],  \n",
    "]"
   ]
  },
  {
   "cell_type": "code",
   "execution_count": 16,
   "id": "c515efa2-5059-4981-85d9-5231a9a1acea",
   "metadata": {},
   "outputs": [],
   "source": [
    "from sklearn.preprocessing import OneHotEncoder\n",
    "from sklearn.preprocessing import OrdinalEncoder\n",
    "from sklearn.compose import ColumnTransformer"
   ]
  },
  {
   "cell_type": "code",
   "execution_count": 17,
   "id": "06231966-6f7f-4094-a878-e090b438c629",
   "metadata": {},
   "outputs": [],
   "source": [
    "transformer = ColumnTransformer(\n",
    "    transformers=[\n",
    "        ('tnf1',OrdinalEncoder(categories=category_orders),ordinal_columns),\n",
    "        ('tnf2',OneHotEncoder(sparse_output=False,drop='first'),nominal_columns)\n",
    "    ],remainder='passthrough'\n",
    ")"
   ]
  },
  {
   "cell_type": "code",
   "execution_count": 18,
   "id": "d0122a93-3f12-481f-ae07-77999e2424ac",
   "metadata": {},
   "outputs": [],
   "source": [
    "X_train_encoded = transformer.fit_transform(X_train)\n",
    "X_test_encoded = transformer.transform(X_test)"
   ]
  },
  {
   "cell_type": "code",
   "execution_count": 19,
   "id": "15ea92bb-0ece-403b-9f8d-cdc82c9ee83a",
   "metadata": {},
   "outputs": [
    {
     "data": {
      "text/plain": [
       "((59426, 45), (14857, 45))"
      ]
     },
     "execution_count": 19,
     "metadata": {},
     "output_type": "execute_result"
    }
   ],
   "source": [
    "X_train_encoded.shape , X_test_encoded.shape"
   ]
  },
  {
   "cell_type": "code",
   "execution_count": 20,
   "id": "799afe0b-0f16-4b18-b0d8-f36cba6bb2f9",
   "metadata": {},
   "outputs": [],
   "source": [
    "y_train_en = pd.get_dummies(y_train, drop_first=True,dtype=int)\n",
    "y_test_en = pd.get_dummies(y_test, drop_first=True,dtype=int)"
   ]
  },
  {
   "cell_type": "code",
   "execution_count": 21,
   "id": "ee452f7e-1f48-4511-ac12-454218ed160c",
   "metadata": {},
   "outputs": [],
   "source": [
    "# # Normalize features\n",
    "# scaler = StandardScaler()\n",
    "# X_train_sc = scaler.fit_transform(X_train_encoded)\n",
    "# X_test_sc = scaler.transform(X_test_encoded)"
   ]
  },
  {
   "cell_type": "code",
   "execution_count": 22,
   "id": "1643627a-0a1f-4e1e-802c-2b2cf94ff766",
   "metadata": {},
   "outputs": [],
   "source": [
    "from sklearn.metrics import accuracy_score, classification_report\n",
    "from keras.models import Sequential\n",
    "from tensorflow.keras.layers import Dense, Dropout, BatchNormalization, Input\n",
    "from keras.layers import LeakyReLU,PReLU,ELU\n",
    "from keras.layers import Dropout"
   ]
  },
  {
   "cell_type": "code",
   "execution_count": 70,
   "id": "f464fd8e-09bf-4a5b-bcb2-24bf37c09a7c",
   "metadata": {},
   "outputs": [],
   "source": [
    "# Build advanced neural network\n",
    "model = Sequential([\n",
    "    Input(shape=(X_train_encoded.shape[1],)),  # Ensure this matches X_train_encoded\n",
    "    Dense(200, kernel_initializer='he_uniform', activation='relu'),\n",
    "    Dense(100, kernel_initializer='he_uniform', activation='relu'),\n",
    "    Dense(80, kernel_initializer='he_uniform', activation='relu'),\n",
    "    Dense(50, kernel_initializer='he_uniform', activation='relu'),\n",
    "    Dense(10, kernel_initializer='he_uniform', activation='relu'),\n",
    "    Dense(1, kernel_initializer='glorot_uniform', activation='sigmoid')\n",
    "])"
   ]
  },
  {
   "cell_type": "code",
   "execution_count": 72,
   "id": "af105a8c-2336-4b7a-93d2-ca7d817c8f18",
   "metadata": {},
   "outputs": [],
   "source": [
    "# Compile model\n",
    "model.compile(optimizer='adam', loss='binary_crossentropy', metrics=['accuracy'])"
   ]
  },
  {
   "cell_type": "code",
   "execution_count": 74,
   "id": "1b4f2342-478a-4713-ac1f-ae1ef2b8547c",
   "metadata": {},
   "outputs": [
    {
     "name": "stdout",
     "output_type": "stream",
     "text": [
      "Epoch 1/30\n",
      "\u001b[1m3715/3715\u001b[0m \u001b[32m━━━━━━━━━━━━━━━━━━━━\u001b[0m\u001b[37m\u001b[0m \u001b[1m8s\u001b[0m 2ms/step - accuracy: 0.6379 - loss: 0.6934 - val_accuracy: 0.6749 - val_loss: 0.5945\n",
      "Epoch 2/30\n",
      "\u001b[1m3715/3715\u001b[0m \u001b[32m━━━━━━━━━━━━━━━━━━━━\u001b[0m\u001b[37m\u001b[0m \u001b[1m6s\u001b[0m 2ms/step - accuracy: 0.6867 - loss: 0.5861 - val_accuracy: 0.6980 - val_loss: 0.5686\n",
      "Epoch 3/30\n",
      "\u001b[1m3715/3715\u001b[0m \u001b[32m━━━━━━━━━━━━━━━━━━━━\u001b[0m\u001b[37m\u001b[0m \u001b[1m5s\u001b[0m 1ms/step - accuracy: 0.7016 - loss: 0.5679 - val_accuracy: 0.7074 - val_loss: 0.5602\n",
      "Epoch 4/30\n",
      "\u001b[1m3715/3715\u001b[0m \u001b[32m━━━━━━━━━━━━━━━━━━━━\u001b[0m\u001b[37m\u001b[0m \u001b[1m6s\u001b[0m 2ms/step - accuracy: 0.7062 - loss: 0.5584 - val_accuracy: 0.7077 - val_loss: 0.5657\n",
      "Epoch 5/30\n",
      "\u001b[1m3715/3715\u001b[0m \u001b[32m━━━━━━━━━━━━━━━━━━━━\u001b[0m\u001b[37m\u001b[0m \u001b[1m6s\u001b[0m 2ms/step - accuracy: 0.7112 - loss: 0.5501 - val_accuracy: 0.7126 - val_loss: 0.5501\n",
      "Epoch 6/30\n",
      "\u001b[1m3715/3715\u001b[0m \u001b[32m━━━━━━━━━━━━━━━━━━━━\u001b[0m\u001b[37m\u001b[0m \u001b[1m5s\u001b[0m 1ms/step - accuracy: 0.7083 - loss: 0.5522 - val_accuracy: 0.6950 - val_loss: 0.5763\n",
      "Epoch 7/30\n",
      "\u001b[1m3715/3715\u001b[0m \u001b[32m━━━━━━━━━━━━━━━━━━━━\u001b[0m\u001b[37m\u001b[0m \u001b[1m6s\u001b[0m 2ms/step - accuracy: 0.7138 - loss: 0.5446 - val_accuracy: 0.7127 - val_loss: 0.5459\n",
      "Epoch 8/30\n",
      "\u001b[1m3715/3715\u001b[0m \u001b[32m━━━━━━━━━━━━━━━━━━━━\u001b[0m\u001b[37m\u001b[0m \u001b[1m6s\u001b[0m 2ms/step - accuracy: 0.7110 - loss: 0.5451 - val_accuracy: 0.7117 - val_loss: 0.5462\n",
      "Epoch 9/30\n",
      "\u001b[1m3715/3715\u001b[0m \u001b[32m━━━━━━━━━━━━━━━━━━━━\u001b[0m\u001b[37m\u001b[0m \u001b[1m6s\u001b[0m 2ms/step - accuracy: 0.7143 - loss: 0.5427 - val_accuracy: 0.7078 - val_loss: 0.5514\n",
      "Epoch 10/30\n",
      "\u001b[1m3715/3715\u001b[0m \u001b[32m━━━━━━━━━━━━━━━━━━━━\u001b[0m\u001b[37m\u001b[0m \u001b[1m7s\u001b[0m 2ms/step - accuracy: 0.7125 - loss: 0.5416 - val_accuracy: 0.7117 - val_loss: 0.5461\n",
      "Epoch 11/30\n",
      "\u001b[1m3715/3715\u001b[0m \u001b[32m━━━━━━━━━━━━━━━━━━━━\u001b[0m\u001b[37m\u001b[0m \u001b[1m6s\u001b[0m 2ms/step - accuracy: 0.7171 - loss: 0.5403 - val_accuracy: 0.7110 - val_loss: 0.5459\n",
      "Epoch 12/30\n",
      "\u001b[1m3715/3715\u001b[0m \u001b[32m━━━━━━━━━━━━━━━━━━━━\u001b[0m\u001b[37m\u001b[0m \u001b[1m6s\u001b[0m 1ms/step - accuracy: 0.7125 - loss: 0.5413 - val_accuracy: 0.7143 - val_loss: 0.5416\n",
      "Epoch 13/30\n",
      "\u001b[1m3715/3715\u001b[0m \u001b[32m━━━━━━━━━━━━━━━━━━━━\u001b[0m\u001b[37m\u001b[0m \u001b[1m6s\u001b[0m 2ms/step - accuracy: 0.7164 - loss: 0.5395 - val_accuracy: 0.7119 - val_loss: 0.5441\n",
      "Epoch 14/30\n",
      "\u001b[1m3715/3715\u001b[0m \u001b[32m━━━━━━━━━━━━━━━━━━━━\u001b[0m\u001b[37m\u001b[0m \u001b[1m5s\u001b[0m 1ms/step - accuracy: 0.7180 - loss: 0.5377 - val_accuracy: 0.7090 - val_loss: 0.5522\n",
      "Epoch 15/30\n",
      "\u001b[1m3715/3715\u001b[0m \u001b[32m━━━━━━━━━━━━━━━━━━━━\u001b[0m\u001b[37m\u001b[0m \u001b[1m6s\u001b[0m 2ms/step - accuracy: 0.7169 - loss: 0.5408 - val_accuracy: 0.7150 - val_loss: 0.5436\n",
      "Epoch 16/30\n",
      "\u001b[1m3715/3715\u001b[0m \u001b[32m━━━━━━━━━━━━━━━━━━━━\u001b[0m\u001b[37m\u001b[0m \u001b[1m6s\u001b[0m 1ms/step - accuracy: 0.7169 - loss: 0.5402 - val_accuracy: 0.7139 - val_loss: 0.5394\n",
      "Epoch 17/30\n",
      "\u001b[1m3715/3715\u001b[0m \u001b[32m━━━━━━━━━━━━━━━━━━━━\u001b[0m\u001b[37m\u001b[0m \u001b[1m6s\u001b[0m 2ms/step - accuracy: 0.7186 - loss: 0.5380 - val_accuracy: 0.7119 - val_loss: 0.5514\n",
      "Epoch 18/30\n",
      "\u001b[1m3715/3715\u001b[0m \u001b[32m━━━━━━━━━━━━━━━━━━━━\u001b[0m\u001b[37m\u001b[0m \u001b[1m6s\u001b[0m 2ms/step - accuracy: 0.7174 - loss: 0.5387 - val_accuracy: 0.7145 - val_loss: 0.5413\n",
      "Epoch 19/30\n",
      "\u001b[1m3715/3715\u001b[0m \u001b[32m━━━━━━━━━━━━━━━━━━━━\u001b[0m\u001b[37m\u001b[0m \u001b[1m6s\u001b[0m 2ms/step - accuracy: 0.7218 - loss: 0.5356 - val_accuracy: 0.7061 - val_loss: 0.5483\n",
      "Epoch 20/30\n",
      "\u001b[1m3715/3715\u001b[0m \u001b[32m━━━━━━━━━━━━━━━━━━━━\u001b[0m\u001b[37m\u001b[0m \u001b[1m6s\u001b[0m 2ms/step - accuracy: 0.7196 - loss: 0.5351 - val_accuracy: 0.7108 - val_loss: 0.5466\n",
      "Epoch 21/30\n",
      "\u001b[1m3715/3715\u001b[0m \u001b[32m━━━━━━━━━━━━━━━━━━━━\u001b[0m\u001b[37m\u001b[0m \u001b[1m6s\u001b[0m 2ms/step - accuracy: 0.7167 - loss: 0.5405 - val_accuracy: 0.7124 - val_loss: 0.5432\n",
      "Epoch 22/30\n",
      "\u001b[1m3715/3715\u001b[0m \u001b[32m━━━━━━━━━━━━━━━━━━━━\u001b[0m\u001b[37m\u001b[0m \u001b[1m10s\u001b[0m 2ms/step - accuracy: 0.7137 - loss: 0.5406 - val_accuracy: 0.7147 - val_loss: 0.5484\n",
      "Epoch 23/30\n",
      "\u001b[1m3715/3715\u001b[0m \u001b[32m━━━━━━━━━━━━━━━━━━━━\u001b[0m\u001b[37m\u001b[0m \u001b[1m6s\u001b[0m 1ms/step - accuracy: 0.7200 - loss: 0.5362 - val_accuracy: 0.7117 - val_loss: 0.5430\n",
      "Epoch 24/30\n",
      "\u001b[1m3715/3715\u001b[0m \u001b[32m━━━━━━━━━━━━━━━━━━━━\u001b[0m\u001b[37m\u001b[0m \u001b[1m6s\u001b[0m 2ms/step - accuracy: 0.7173 - loss: 0.5367 - val_accuracy: 0.7051 - val_loss: 0.5688\n",
      "Epoch 25/30\n",
      "\u001b[1m3715/3715\u001b[0m \u001b[32m━━━━━━━━━━━━━━━━━━━━\u001b[0m\u001b[37m\u001b[0m \u001b[1m6s\u001b[0m 2ms/step - accuracy: 0.7192 - loss: 0.5358 - val_accuracy: 0.7065 - val_loss: 0.5510\n",
      "Epoch 26/30\n",
      "\u001b[1m3715/3715\u001b[0m \u001b[32m━━━━━━━━━━━━━━━━━━━━\u001b[0m\u001b[37m\u001b[0m \u001b[1m6s\u001b[0m 2ms/step - accuracy: 0.7159 - loss: 0.5368 - val_accuracy: 0.7160 - val_loss: 0.5377\n",
      "Epoch 27/30\n",
      "\u001b[1m3715/3715\u001b[0m \u001b[32m━━━━━━━━━━━━━━━━━━━━\u001b[0m\u001b[37m\u001b[0m \u001b[1m10s\u001b[0m 2ms/step - accuracy: 0.7195 - loss: 0.5356 - val_accuracy: 0.7141 - val_loss: 0.5436\n",
      "Epoch 28/30\n",
      "\u001b[1m3715/3715\u001b[0m \u001b[32m━━━━━━━━━━━━━━━━━━━━\u001b[0m\u001b[37m\u001b[0m \u001b[1m6s\u001b[0m 2ms/step - accuracy: 0.7196 - loss: 0.5333 - val_accuracy: 0.7177 - val_loss: 0.5392\n",
      "Epoch 29/30\n",
      "\u001b[1m3715/3715\u001b[0m \u001b[32m━━━━━━━━━━━━━━━━━━━━\u001b[0m\u001b[37m\u001b[0m \u001b[1m7s\u001b[0m 2ms/step - accuracy: 0.7200 - loss: 0.5320 - val_accuracy: 0.7162 - val_loss: 0.5398\n",
      "Epoch 30/30\n",
      "\u001b[1m3715/3715\u001b[0m \u001b[32m━━━━━━━━━━━━━━━━━━━━\u001b[0m\u001b[37m\u001b[0m \u001b[1m6s\u001b[0m 2ms/step - accuracy: 0.7206 - loss: 0.5315 - val_accuracy: 0.7201 - val_loss: 0.5389\n"
     ]
    }
   ],
   "source": [
    "# Train model\n",
    "model_history = model.fit(X_train_encoded,y_train_en, epochs=30, batch_size=16, validation_data=(X_test_encoded, y_test_en))"
   ]
  },
  {
   "cell_type": "code",
   "execution_count": 76,
   "id": "340e8d31-0694-46c6-b70c-b3a4c845af46",
   "metadata": {},
   "outputs": [
    {
     "data": {
      "image/png": "[encoded data removed]",
      "text/plain": [
       "<Figure size 640x480 with 1 Axes>"
      ]
     },
     "metadata": {},
     "output_type": "display_data"
    }
   ],
   "source": [
    "# summarize history for loss\n",
    "plt.plot(model_history.history['loss'])\n",
    "plt.plot(model_history.history['val_loss'])\n",
    "plt.title('model loss')\n",
    "plt.ylabel('loss')\n",
    "plt.xlabel('epoch')\n",
    "plt.legend(['train', 'test'], loc='upper left')\n",
    "plt.show()"
   ]
  },
  {
   "cell_type": "code",
   "execution_count": 78,
   "id": "84ff063c-85e2-4efa-9e57-1733365fac97",
   "metadata": {},
   "outputs": [
    {
     "name": "stdout",
     "output_type": "stream",
     "text": [
      "dict_keys(['accuracy', 'loss', 'val_accuracy', 'val_loss'])\n"
     ]
    },
    {
     "data": {
      "image/png": "[encoded data removed]",
      "text/plain": [
       "<Figure size 640x480 with 1 Axes>"
      ]
     },
     "metadata": {},
     "output_type": "display_data"
    }
   ],
   "source": [
    "# list all data in history\n",
    "print(model_history.history.keys())\n",
    "# summarize history for accuracy\n",
    "plt.plot(model_history.history['accuracy'])\n",
    "plt.plot(model_history.history['val_accuracy'])\n",
    "plt.title('accuracy')\n",
    "plt.ylabel('val_accuracy')\n",
    "plt.xlabel('epoch')\n",
    "plt.legend(['train', 'test'], loc='upper left')\n",
    "plt.show()"
   ]
  },
  {
   "cell_type": "code",
   "execution_count": 80,
   "id": "834b1cde-21f4-4b41-a39b-a0e986285721",
   "metadata": {},
   "outputs": [
    {
     "name": "stdout",
     "output_type": "stream",
     "text": [
      "\u001b[1m465/465\u001b[0m \u001b[32m━━━━━━━━━━━━━━━━━━━━\u001b[0m\u001b[37m\u001b[0m \u001b[1m0s\u001b[0m 803us/step\n"
     ]
    }
   ],
   "source": [
    "# Predicting the Test set results\n",
    "y_pred = model.predict(X_test_encoded)\n",
    "y_pred = (y_pred > 0.5)"
   ]
  },
  {
   "cell_type": "code",
   "execution_count": 82,
   "id": "4168917a-0d30-493a-8d2b-e60042846d7d",
   "metadata": {},
   "outputs": [
    {
     "name": "stdout",
     "output_type": "stream",
     "text": [
      "Accuracy Score: 0.7201319243454264\n"
     ]
    }
   ],
   "source": [
    "from sklearn.metrics import accuracy_score\n",
    "# Assuming you have your true labels (y_true) and predicted labels (y_pred)\n",
    "accuracy = accuracy_score(y_test_en, y_pred) \n",
    "print(\"Accuracy Score:\", accuracy) "
   ]
  },
  {
   "cell_type": "code",
   "execution_count": 84,
   "id": "eabf80f9-09e0-400c-a272-dfe2a64d2906",
   "metadata": {},
   "outputs": [
    {
     "data": {
      "text/plain": [
       "array([[6343, 2360],\n",
       "       [1798, 4356]], dtype=int64)"
      ]
     },
     "execution_count": 84,
     "metadata": {},
     "output_type": "execute_result"
    }
   ],
   "source": [
    "from sklearn.metrics import confusion_matrix\n",
    "# Generate confusion matrix\n",
    "cm = confusion_matrix(y_test_en, y_pred)\n",
    "cm"
   ]
  },
  {
   "cell_type": "code",
   "execution_count": 86,
   "id": "892b33a9-7287-4c36-8929-5550ee5643ae",
   "metadata": {},
   "outputs": [
    {
     "name": "stdout",
     "output_type": "stream",
     "text": [
      "\n",
      "Classification Report:\n",
      "               precision    recall  f1-score   support\n",
      "\n",
      "           0       0.78      0.73      0.75      8703\n",
      "           1       0.65      0.71      0.68      6154\n",
      "\n",
      "    accuracy                           0.72     14857\n",
      "   macro avg       0.71      0.72      0.72     14857\n",
      "weighted avg       0.73      0.72      0.72     14857\n",
      "\n"
     ]
    }
   ],
   "source": [
    "print(\"\\nClassification Report:\\n\", classification_report(y_test_en, y_pred))"
   ]
  },
  {
   "cell_type": "code",
   "execution_count": 88,
   "id": "064792b9-f432-4ed8-9828-8c15c67f3637",
   "metadata": {},
   "outputs": [
    {
     "data": {
      "image/png": "[encoded data removed]",
      "text/plain": [
       "<Figure size 1000x600 with 2 Axes>"
      ]
     },
     "metadata": {},
     "output_type": "display_data"
    }
   ],
   "source": [
    "# Plot confusion matrix using seaborn heatmap\n",
    "plt.figure(figsize=(10, 6))\n",
    "sns.heatmap(cm, annot=True, fmt='d', cmap=\"Purples\",linewidths=1, linecolor='black',\n",
    "            xticklabels=['Negative(No)', 'Positive(Yes)'], \n",
    "            yticklabels=['Negative(No)', 'Positive(Yes)'])\n",
    "plt.title('Confusion Matrix')\n",
    "plt.xlabel('Predicted Label')\n",
    "plt.ylabel('True Label')\n",
    "plt.show()"
   ]
  },
  {
   "cell_type": "code",
   "execution_count": null,
   "id": "f659f947-c263-458b-ad75-91d810dfccad",
   "metadata": {},
   "outputs": [],
   "source": []
  }
 ],
 "metadata": {
  "kernelspec": {
   "display_name": "Python [conda env:base] *",
   "language": "python",
   "name": "conda-base-py"
  },
  "language_info": {
   "codemirror_mode": {
    "name": "ipython",
    "version": 3
   },
   "file_extension": ".py",
   "mimetype": "text/x-python",
   "name": "python",
   "nbconvert_exporter": "python",
   "pygments_lexer": "ipython3",
   "version": "3.12.7"
  }
 },
 "nbformat": 4,
 "nbformat_minor": 5
}
