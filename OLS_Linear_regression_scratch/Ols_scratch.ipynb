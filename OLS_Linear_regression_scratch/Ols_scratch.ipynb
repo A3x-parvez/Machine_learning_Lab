{
 "cells": [
  {
   "cell_type": "code",
   "execution_count": 1,
   "id": "e53bcd0d-9714-4b1e-b86d-6a39c89acf19",
   "metadata": {},
   "outputs": [],
   "source": [
    "import pandas as pd\n",
    "import numpy as np\n",
    "import matplotlib.pyplot as plt\n",
    "import seaborn as sns"
   ]
  },
  {
   "cell_type": "code",
   "execution_count": 2,
   "id": "4860899e-0409-496e-b6aa-3b7b7f13b795",
   "metadata": {},
   "outputs": [],
   "source": [
    "df = pd.read_csv('placement_college.csv')"
   ]
  },
  {
   "cell_type": "code",
   "execution_count": 3,
   "id": "192f1112-4f31-4d37-ae70-953024486129",
   "metadata": {},
   "outputs": [
    {
     "data": {
      "text/html": [
       "<div>\n",
       "<style scoped>\n",
       "    .dataframe tbody tr th:only-of-type {\n",
       "        vertical-align: middle;\n",
       "    }\n",
       "\n",
       "    .dataframe tbody tr th {\n",
       "        vertical-align: top;\n",
       "    }\n",
       "\n",
       "    .dataframe thead th {\n",
       "        text-align: right;\n",
       "    }\n",
       "</style>\n",
       "<table border=\"1\" class=\"dataframe\">\n",
       "  <thead>\n",
       "    <tr style=\"text-align: right;\">\n",
       "      <th></th>\n",
       "      <th>cgpa</th>\n",
       "      <th>package</th>\n",
       "    </tr>\n",
       "  </thead>\n",
       "  <tbody>\n",
       "    <tr>\n",
       "      <th>0</th>\n",
       "      <td>6.89</td>\n",
       "      <td>3.26</td>\n",
       "    </tr>\n",
       "    <tr>\n",
       "      <th>1</th>\n",
       "      <td>5.12</td>\n",
       "      <td>1.98</td>\n",
       "    </tr>\n",
       "    <tr>\n",
       "      <th>2</th>\n",
       "      <td>7.82</td>\n",
       "      <td>3.25</td>\n",
       "    </tr>\n",
       "    <tr>\n",
       "      <th>3</th>\n",
       "      <td>7.42</td>\n",
       "      <td>3.67</td>\n",
       "    </tr>\n",
       "    <tr>\n",
       "      <th>4</th>\n",
       "      <td>6.94</td>\n",
       "      <td>3.57</td>\n",
       "    </tr>\n",
       "    <tr>\n",
       "      <th>...</th>\n",
       "      <td>...</td>\n",
       "      <td>...</td>\n",
       "    </tr>\n",
       "    <tr>\n",
       "      <th>195</th>\n",
       "      <td>6.93</td>\n",
       "      <td>2.46</td>\n",
       "    </tr>\n",
       "    <tr>\n",
       "      <th>196</th>\n",
       "      <td>5.89</td>\n",
       "      <td>2.57</td>\n",
       "    </tr>\n",
       "    <tr>\n",
       "      <th>197</th>\n",
       "      <td>7.21</td>\n",
       "      <td>3.24</td>\n",
       "    </tr>\n",
       "    <tr>\n",
       "      <th>198</th>\n",
       "      <td>7.63</td>\n",
       "      <td>3.96</td>\n",
       "    </tr>\n",
       "    <tr>\n",
       "      <th>199</th>\n",
       "      <td>6.22</td>\n",
       "      <td>2.33</td>\n",
       "    </tr>\n",
       "  </tbody>\n",
       "</table>\n",
       "<p>200 rows × 2 columns</p>\n",
       "</div>"
      ],
      "text/plain": [
       "     cgpa  package\n",
       "0    6.89     3.26\n",
       "1    5.12     1.98\n",
       "2    7.82     3.25\n",
       "3    7.42     3.67\n",
       "4    6.94     3.57\n",
       "..    ...      ...\n",
       "195  6.93     2.46\n",
       "196  5.89     2.57\n",
       "197  7.21     3.24\n",
       "198  7.63     3.96\n",
       "199  6.22     2.33\n",
       "\n",
       "[200 rows x 2 columns]"
      ]
     },
     "execution_count": 3,
     "metadata": {},
     "output_type": "execute_result"
    }
   ],
   "source": [
    "df"
   ]
  },
  {
   "cell_type": "code",
   "execution_count": 4,
   "id": "f105d674-f082-4eb2-822c-1cc78fa5ed49",
   "metadata": {},
   "outputs": [
    {
     "data": {
      "text/plain": [
       "cgpa       0\n",
       "package    0\n",
       "dtype: int64"
      ]
     },
     "execution_count": 4,
     "metadata": {},
     "output_type": "execute_result"
    }
   ],
   "source": [
    "df.isnull().sum()"
   ]
  },
  {
   "cell_type": "code",
   "execution_count": 5,
   "id": "220d41df-7807-44ac-8a48-5fbf845cd47f",
   "metadata": {},
   "outputs": [
    {
     "data": {
      "text/plain": [
       "0"
      ]
     },
     "execution_count": 5,
     "metadata": {},
     "output_type": "execute_result"
    }
   ],
   "source": [
    "df.duplicated().sum()"
   ]
  },
  {
   "cell_type": "code",
   "execution_count": 6,
   "id": "57356ca8-ad83-4809-9108-09f650c2f684",
   "metadata": {},
   "outputs": [
    {
     "name": "stdout",
     "output_type": "stream",
     "text": [
      "<class 'pandas.core.frame.DataFrame'>\n",
      "RangeIndex: 200 entries, 0 to 199\n",
      "Data columns (total 2 columns):\n",
      " #   Column   Non-Null Count  Dtype  \n",
      "---  ------   --------------  -----  \n",
      " 0   cgpa     200 non-null    float64\n",
      " 1   package  200 non-null    float64\n",
      "dtypes: float64(2)\n",
      "memory usage: 3.3 KB\n"
     ]
    }
   ],
   "source": [
    "df.info()"
   ]
  },
  {
   "cell_type": "code",
   "execution_count": 7,
   "id": "412ba589-f63a-4193-9b4f-38dacce0ebbc",
   "metadata": {},
   "outputs": [
    {
     "data": {
      "text/plain": [
       "<Axes: xlabel='cgpa', ylabel='package'>"
      ]
     },
     "execution_count": 7,
     "metadata": {},
     "output_type": "execute_result"
    },
    {
     "data": {
      "image/png": "[encoded data removed]",
      "text/plain": [
       "<Figure size 640x480 with 1 Axes>"
      ]
     },
     "metadata": {},
     "output_type": "display_data"
    }
   ],
   "source": [
    "sns.histplot(data=df,x=\"cgpa\",y=\"package\")"
   ]
  },
  {
   "cell_type": "code",
   "execution_count": 8,
   "id": "7b778035-986d-4977-9204-c3d82ddb98db",
   "metadata": {},
   "outputs": [
    {
     "data": {
      "text/plain": [
       "<matplotlib.collections.PathCollection at 0x1ebc67eb050>"
      ]
     },
     "execution_count": 8,
     "metadata": {},
     "output_type": "execute_result"
    },
    {
     "data": {
      "image/png": "[encoded data removed]",
      "text/plain": [
       "<Figure size 640x480 with 1 Axes>"
      ]
     },
     "metadata": {},
     "output_type": "display_data"
    }
   ],
   "source": [
    "plt.scatter(df['cgpa'],df['package'])"
   ]
  },
  {
   "cell_type": "code",
   "execution_count": 9,
   "id": "671a3fa9-9b53-498b-99c7-1ce831f91248",
   "metadata": {},
   "outputs": [
    {
     "name": "stderr",
     "output_type": "stream",
     "text": [
      "C:\\Users\\itsri\\AppData\\Local\\Temp\\ipykernel_9704\\2110266471.py:1: UserWarning: \n",
      "\n",
      "`distplot` is a deprecated function and will be removed in seaborn v0.14.0.\n",
      "\n",
      "Please adapt your code to use either `displot` (a figure-level function with\n",
      "similar flexibility) or `histplot` (an axes-level function for histograms).\n",
      "\n",
      "For a guide to updating your code to use the new functions, please see\n",
      "https://gist.github.com/mwaskom/de44147ed2974457ad6372750bbe5751\n",
      "\n",
      "  sns.distplot(df[\"cgpa\"],hist=True)\n",
      "C:\\Users\\itsri\\AppData\\Local\\Temp\\ipykernel_9704\\2110266471.py:2: UserWarning: \n",
      "\n",
      "`distplot` is a deprecated function and will be removed in seaborn v0.14.0.\n",
      "\n",
      "Please adapt your code to use either `displot` (a figure-level function with\n",
      "similar flexibility) or `histplot` (an axes-level function for histograms).\n",
      "\n",
      "For a guide to updating your code to use the new functions, please see\n",
      "https://gist.github.com/mwaskom/de44147ed2974457ad6372750bbe5751\n",
      "\n",
      "  sns.distplot(df[\"package\"],hist=True)\n"
     ]
    },
    {
     "data": {
      "text/plain": [
       "<Axes: xlabel='package', ylabel='Density'>"
      ]
     },
     "execution_count": 9,
     "metadata": {},
     "output_type": "execute_result"
    },
    {
     "data": {
      "image/png": "[encoded data removed]",
      "text/plain": [
       "<Figure size 640x480 with 1 Axes>"
      ]
     },
     "metadata": {},
     "output_type": "display_data"
    }
   ],
   "source": [
    "sns.distplot(df[\"cgpa\"],hist=True)\n",
    "sns.distplot(df[\"package\"],hist=True)"
   ]
  },
  {
   "cell_type": "code",
   "execution_count": 10,
   "id": "0d3a7725-85b3-4654-b4c0-e954d49c97d7",
   "metadata": {},
   "outputs": [
    {
     "data": {
      "text/plain": [
       "<Axes: xlabel='cgpa', ylabel='package'>"
      ]
     },
     "execution_count": 10,
     "metadata": {},
     "output_type": "execute_result"
    },
    {
     "data": {
      "image/png": "[encoded data removed]",
      "text/plain": [
       "<Figure size 640x480 with 1 Axes>"
      ]
     },
     "metadata": {},
     "output_type": "display_data"
    }
   ],
   "source": [
    "sns.lineplot(data=df,x='cgpa',y='package')"
   ]
  },
  {
   "cell_type": "code",
   "execution_count": 11,
   "id": "5ffea76a-58ca-46df-be43-195f70fbba01",
   "metadata": {},
   "outputs": [
    {
     "data": {
      "text/plain": [
       "<Axes: ylabel='cgpa'>"
      ]
     },
     "execution_count": 11,
     "metadata": {},
     "output_type": "execute_result"
    },
    {
     "data": {
      "image/png": "[encoded data removed]",
      "text/plain": [
       "<Figure size 640x480 with 1 Axes>"
      ]
     },
     "metadata": {},
     "output_type": "display_data"
    }
   ],
   "source": [
    "sns.boxplot(df['cgpa'])"
   ]
  },
  {
   "cell_type": "code",
   "execution_count": 12,
   "id": "adcf3130-da60-48eb-8f99-11b4eca6bb01",
   "metadata": {},
   "outputs": [
    {
     "data": {
      "text/plain": [
       "<Axes: ylabel='package'>"
      ]
     },
     "execution_count": 12,
     "metadata": {},
     "output_type": "execute_result"
    },
    {
     "data": {
      "image/png": "[encoded data removed]",
      "text/plain": [
       "<Figure size 640x480 with 1 Axes>"
      ]
     },
     "metadata": {},
     "output_type": "display_data"
    }
   ],
   "source": [
    "sns.boxplot(df['package'])"
   ]
  },
  {
   "cell_type": "code",
   "execution_count": 13,
   "id": "83ecd0fb-2274-4e7d-91c4-e1e509074a0d",
   "metadata": {},
   "outputs": [],
   "source": [
    "df['XY']=df[\"cgpa\"]*df[\"package\"]"
   ]
  },
  {
   "cell_type": "code",
   "execution_count": 14,
   "id": "5a77a48c-bcf1-419f-8625-6190a96f74d5",
   "metadata": {},
   "outputs": [],
   "source": [
    "df['X^2']=df['cgpa']*df['cgpa']"
   ]
  },
  {
   "cell_type": "code",
   "execution_count": 15,
   "id": "c8a1ac97-a943-45d2-b469-bdccf5f1f0f2",
   "metadata": {},
   "outputs": [
    {
     "data": {
      "text/html": [
       "<div>\n",
       "<style scoped>\n",
       "    .dataframe tbody tr th:only-of-type {\n",
       "        vertical-align: middle;\n",
       "    }\n",
       "\n",
       "    .dataframe tbody tr th {\n",
       "        vertical-align: top;\n",
       "    }\n",
       "\n",
       "    .dataframe thead th {\n",
       "        text-align: right;\n",
       "    }\n",
       "</style>\n",
       "<table border=\"1\" class=\"dataframe\">\n",
       "  <thead>\n",
       "    <tr style=\"text-align: right;\">\n",
       "      <th></th>\n",
       "      <th>cgpa</th>\n",
       "      <th>package</th>\n",
       "      <th>XY</th>\n",
       "      <th>X^2</th>\n",
       "    </tr>\n",
       "  </thead>\n",
       "  <tbody>\n",
       "    <tr>\n",
       "      <th>0</th>\n",
       "      <td>6.89</td>\n",
       "      <td>3.26</td>\n",
       "      <td>22.4614</td>\n",
       "      <td>47.4721</td>\n",
       "    </tr>\n",
       "    <tr>\n",
       "      <th>1</th>\n",
       "      <td>5.12</td>\n",
       "      <td>1.98</td>\n",
       "      <td>10.1376</td>\n",
       "      <td>26.2144</td>\n",
       "    </tr>\n",
       "    <tr>\n",
       "      <th>2</th>\n",
       "      <td>7.82</td>\n",
       "      <td>3.25</td>\n",
       "      <td>25.4150</td>\n",
       "      <td>61.1524</td>\n",
       "    </tr>\n",
       "    <tr>\n",
       "      <th>3</th>\n",
       "      <td>7.42</td>\n",
       "      <td>3.67</td>\n",
       "      <td>27.2314</td>\n",
       "      <td>55.0564</td>\n",
       "    </tr>\n",
       "    <tr>\n",
       "      <th>4</th>\n",
       "      <td>6.94</td>\n",
       "      <td>3.57</td>\n",
       "      <td>24.7758</td>\n",
       "      <td>48.1636</td>\n",
       "    </tr>\n",
       "    <tr>\n",
       "      <th>...</th>\n",
       "      <td>...</td>\n",
       "      <td>...</td>\n",
       "      <td>...</td>\n",
       "      <td>...</td>\n",
       "    </tr>\n",
       "    <tr>\n",
       "      <th>195</th>\n",
       "      <td>6.93</td>\n",
       "      <td>2.46</td>\n",
       "      <td>17.0478</td>\n",
       "      <td>48.0249</td>\n",
       "    </tr>\n",
       "    <tr>\n",
       "      <th>196</th>\n",
       "      <td>5.89</td>\n",
       "      <td>2.57</td>\n",
       "      <td>15.1373</td>\n",
       "      <td>34.6921</td>\n",
       "    </tr>\n",
       "    <tr>\n",
       "      <th>197</th>\n",
       "      <td>7.21</td>\n",
       "      <td>3.24</td>\n",
       "      <td>23.3604</td>\n",
       "      <td>51.9841</td>\n",
       "    </tr>\n",
       "    <tr>\n",
       "      <th>198</th>\n",
       "      <td>7.63</td>\n",
       "      <td>3.96</td>\n",
       "      <td>30.2148</td>\n",
       "      <td>58.2169</td>\n",
       "    </tr>\n",
       "    <tr>\n",
       "      <th>199</th>\n",
       "      <td>6.22</td>\n",
       "      <td>2.33</td>\n",
       "      <td>14.4926</td>\n",
       "      <td>38.6884</td>\n",
       "    </tr>\n",
       "  </tbody>\n",
       "</table>\n",
       "<p>200 rows × 4 columns</p>\n",
       "</div>"
      ],
      "text/plain": [
       "     cgpa  package       XY      X^2\n",
       "0    6.89     3.26  22.4614  47.4721\n",
       "1    5.12     1.98  10.1376  26.2144\n",
       "2    7.82     3.25  25.4150  61.1524\n",
       "3    7.42     3.67  27.2314  55.0564\n",
       "4    6.94     3.57  24.7758  48.1636\n",
       "..    ...      ...      ...      ...\n",
       "195  6.93     2.46  17.0478  48.0249\n",
       "196  5.89     2.57  15.1373  34.6921\n",
       "197  7.21     3.24  23.3604  51.9841\n",
       "198  7.63     3.96  30.2148  58.2169\n",
       "199  6.22     2.33  14.4926  38.6884\n",
       "\n",
       "[200 rows x 4 columns]"
      ]
     },
     "execution_count": 15,
     "metadata": {},
     "output_type": "execute_result"
    }
   ],
   "source": [
    "df"
   ]
  },
  {
   "cell_type": "code",
   "execution_count": 16,
   "id": "49216a7c-ff41-4216-ab4e-f60b62de8c9c",
   "metadata": {},
   "outputs": [],
   "source": [
    "def predict_y(row):\n",
    "    y_pred = a0+a1*row['cgpa']\n",
    "    return y_pred"
   ]
  },
  {
   "cell_type": "code",
   "execution_count": 17,
   "id": "0761e5db-94b1-400d-9696-f60102f6798a",
   "metadata": {},
   "outputs": [],
   "source": [
    "def ols_regression(df):\n",
    "    x_bar = df['cgpa'].mean()\n",
    "    y_bar = df['package'].mean()\n",
    "    xy_bar = df['XY'].mean()\n",
    "    x2_bar = df['X^2'].mean()\n",
    "    a1 = (xy_bar-(x_bar*y_bar))/(x2_bar-(x_bar**2))\n",
    "    a0 = y_bar-(a1*x_bar)\n",
    "    return a0,a1"
   ]
  },
  {
   "cell_type": "code",
   "execution_count": 18,
   "id": "cb19318f-cc3b-4f27-a859-352ebc3e0740",
   "metadata": {},
   "outputs": [
    {
     "name": "stdout",
     "output_type": "stream",
     "text": [
      "Slove :  -0.9856779462556973 Intersept :  0.5695912947937483\n"
     ]
    }
   ],
   "source": [
    "a0,a1=ols_regression(df)\n",
    "print('Slove : ',a0,'Intersept : ',a1)"
   ]
  },
  {
   "cell_type": "code",
   "execution_count": 19,
   "id": "ac61df07-c66b-4318-9f01-a9ddd28af9ee",
   "metadata": {},
   "outputs": [],
   "source": [
    "df['y_pred']= df.apply(predict_y,axis=1)"
   ]
  },
  {
   "cell_type": "code",
   "execution_count": 20,
   "id": "613ce2e2-5a06-4615-ba74-7825f2caaeaa",
   "metadata": {},
   "outputs": [
    {
     "data": {
      "text/html": [
       "<div>\n",
       "<style scoped>\n",
       "    .dataframe tbody tr th:only-of-type {\n",
       "        vertical-align: middle;\n",
       "    }\n",
       "\n",
       "    .dataframe tbody tr th {\n",
       "        vertical-align: top;\n",
       "    }\n",
       "\n",
       "    .dataframe thead th {\n",
       "        text-align: right;\n",
       "    }\n",
       "</style>\n",
       "<table border=\"1\" class=\"dataframe\">\n",
       "  <thead>\n",
       "    <tr style=\"text-align: right;\">\n",
       "      <th></th>\n",
       "      <th>cgpa</th>\n",
       "      <th>package</th>\n",
       "      <th>XY</th>\n",
       "      <th>X^2</th>\n",
       "      <th>y_pred</th>\n",
       "    </tr>\n",
       "  </thead>\n",
       "  <tbody>\n",
       "    <tr>\n",
       "      <th>0</th>\n",
       "      <td>6.89</td>\n",
       "      <td>3.26</td>\n",
       "      <td>22.4614</td>\n",
       "      <td>47.4721</td>\n",
       "      <td>2.938806</td>\n",
       "    </tr>\n",
       "    <tr>\n",
       "      <th>1</th>\n",
       "      <td>5.12</td>\n",
       "      <td>1.98</td>\n",
       "      <td>10.1376</td>\n",
       "      <td>26.2144</td>\n",
       "      <td>1.930629</td>\n",
       "    </tr>\n",
       "    <tr>\n",
       "      <th>2</th>\n",
       "      <td>7.82</td>\n",
       "      <td>3.25</td>\n",
       "      <td>25.4150</td>\n",
       "      <td>61.1524</td>\n",
       "      <td>3.468526</td>\n",
       "    </tr>\n",
       "    <tr>\n",
       "      <th>3</th>\n",
       "      <td>7.42</td>\n",
       "      <td>3.67</td>\n",
       "      <td>27.2314</td>\n",
       "      <td>55.0564</td>\n",
       "      <td>3.240689</td>\n",
       "    </tr>\n",
       "    <tr>\n",
       "      <th>4</th>\n",
       "      <td>6.94</td>\n",
       "      <td>3.57</td>\n",
       "      <td>24.7758</td>\n",
       "      <td>48.1636</td>\n",
       "      <td>2.967286</td>\n",
       "    </tr>\n",
       "    <tr>\n",
       "      <th>...</th>\n",
       "      <td>...</td>\n",
       "      <td>...</td>\n",
       "      <td>...</td>\n",
       "      <td>...</td>\n",
       "      <td>...</td>\n",
       "    </tr>\n",
       "    <tr>\n",
       "      <th>195</th>\n",
       "      <td>6.93</td>\n",
       "      <td>2.46</td>\n",
       "      <td>17.0478</td>\n",
       "      <td>48.0249</td>\n",
       "      <td>2.961590</td>\n",
       "    </tr>\n",
       "    <tr>\n",
       "      <th>196</th>\n",
       "      <td>5.89</td>\n",
       "      <td>2.57</td>\n",
       "      <td>15.1373</td>\n",
       "      <td>34.6921</td>\n",
       "      <td>2.369215</td>\n",
       "    </tr>\n",
       "    <tr>\n",
       "      <th>197</th>\n",
       "      <td>7.21</td>\n",
       "      <td>3.24</td>\n",
       "      <td>23.3604</td>\n",
       "      <td>51.9841</td>\n",
       "      <td>3.121075</td>\n",
       "    </tr>\n",
       "    <tr>\n",
       "      <th>198</th>\n",
       "      <td>7.63</td>\n",
       "      <td>3.96</td>\n",
       "      <td>30.2148</td>\n",
       "      <td>58.2169</td>\n",
       "      <td>3.360304</td>\n",
       "    </tr>\n",
       "    <tr>\n",
       "      <th>199</th>\n",
       "      <td>6.22</td>\n",
       "      <td>2.33</td>\n",
       "      <td>14.4926</td>\n",
       "      <td>38.6884</td>\n",
       "      <td>2.557180</td>\n",
       "    </tr>\n",
       "  </tbody>\n",
       "</table>\n",
       "<p>200 rows × 5 columns</p>\n",
       "</div>"
      ],
      "text/plain": [
       "     cgpa  package       XY      X^2    y_pred\n",
       "0    6.89     3.26  22.4614  47.4721  2.938806\n",
       "1    5.12     1.98  10.1376  26.2144  1.930629\n",
       "2    7.82     3.25  25.4150  61.1524  3.468526\n",
       "3    7.42     3.67  27.2314  55.0564  3.240689\n",
       "4    6.94     3.57  24.7758  48.1636  2.967286\n",
       "..    ...      ...      ...      ...       ...\n",
       "195  6.93     2.46  17.0478  48.0249  2.961590\n",
       "196  5.89     2.57  15.1373  34.6921  2.369215\n",
       "197  7.21     3.24  23.3604  51.9841  3.121075\n",
       "198  7.63     3.96  30.2148  58.2169  3.360304\n",
       "199  6.22     2.33  14.4926  38.6884  2.557180\n",
       "\n",
       "[200 rows x 5 columns]"
      ]
     },
     "execution_count": 20,
     "metadata": {},
     "output_type": "execute_result"
    }
   ],
   "source": [
    "df"
   ]
  },
  {
   "cell_type": "code",
   "execution_count": 21,
   "id": "315397c0-3ef8-4242-9b73-9c49ba107e1c",
   "metadata": {},
   "outputs": [],
   "source": [
    "# Function to calculate error and accuracy\n",
    "def calculate_error_accuracy(y_true, y_pred):\n",
    "    # Convert inputs to numpy arrays for vectorized calculations\n",
    "    y_true = np.array(y_true)\n",
    "    y_pred = np.array(y_pred)\n",
    "    \n",
    "    # Calculate Mean Squared Error (MSE)\n",
    "    mse = np.mean((y_true - y_pred) ** 2)\n",
    "    \n",
    "    # Calculate Mean Absolute Error (MAE)\n",
    "    mae = np.mean(np.abs(y_true - y_pred))\n",
    "    \n",
    "    # Calculate R-squared (coefficient of determination)\n",
    "    ss_total = np.sum((y_true - np.mean(y_true)) ** 2)\n",
    "    ss_residual = np.sum((y_true - y_pred) ** 2)\n",
    "    r2 = 1 - (ss_residual / ss_total)\n",
    "    \n",
    "    return {\n",
    "        'Mean Squared Error': mse,\n",
    "        'Mean Absolute Error': mae,\n",
    "        'R-squared': r2\n",
    "    }"
   ]
  },
  {
   "cell_type": "code",
   "execution_count": 55,
   "id": "19500ec8-1e6f-4042-ae21-b51bd2a8438d",
   "metadata": {},
   "outputs": [
    {
     "name": "stdout",
     "output_type": "stream",
     "text": [
      "Error and Accuracy Metrics:\n",
      "{'Mean Squared Error': 0.10680073799744795, 'Mean Absolute Error': 0.25962660834195483, 'R-squared': 0.7756192256051151}\n"
     ]
    }
   ],
   "source": [
    "y_true = df['package']# True y values\n",
    "y_pred = df['y_pred']  # Predicted y values\n",
    "\n",
    "results = calculate_error_accuracy(y_true, y_pred)\n",
    "print(\"Error and Accuracy Metrics:\")\n",
    "print(results)"
   ]
  },
  {
   "cell_type": "code",
   "execution_count": 56,
   "id": "f44e15ef-5668-408d-9478-875f3985b6b9",
   "metadata": {},
   "outputs": [
    {
     "name": "stdout",
     "output_type": "stream",
     "text": [
      "R^2 Score: 0.7756\n"
     ]
    }
   ],
   "source": [
    "from sklearn.metrics import r2_score\n",
    "\n",
    "r2 = r2_score(y_true, y_pred)\n",
    "print(f\"R^2 Score: {r2:.4f}\")"
   ]
  },
  {
   "cell_type": "markdown",
   "id": "90bcbb84-fcf8-4de9-8f46-da52dd4bcb1e",
   "metadata": {},
   "source": [
    "# gradient_descent"
   ]
  },
  {
   "cell_type": "code",
   "execution_count": 23,
   "id": "3bd193ce-8781-4cf0-803b-3a7c92e4b8e0",
   "metadata": {},
   "outputs": [],
   "source": [
    "df1 = df.copy()\n",
    "# df1=df1.drop('y_pred',axis=1)"
   ]
  },
  {
   "cell_type": "code",
   "execution_count": 24,
   "id": "0a7decf3-72e3-46d3-9593-2fe7cef91043",
   "metadata": {},
   "outputs": [],
   "source": [
    "def gradient_descent(X, y, learning_rate=0.01, epochs=1000):\n",
    "    # Convert to numpy arrays for easier matrix operations\n",
    "    X = np.array(X)\n",
    "    y = np.array(y)\n",
    "    \n",
    "    # Initialize parameters\n",
    "    w = 0  # weight (slope)\n",
    "    b = 0  # bias (intercept)\n",
    "    \n",
    "    n = len(y)  # Number of data points\n",
    "    losses = []  # To store loss at each epoch\n",
    "    \n",
    "    for epoch in range(epochs):\n",
    "        # Predictions\n",
    "        y_pred = w * X + b\n",
    "        \n",
    "        # Calculate loss (Mean Squared Error)\n",
    "        loss = np.mean((y - y_pred) ** 2)\n",
    "        losses.append(loss)\n",
    "        \n",
    "        # Calculate gradients\n",
    "        dw = -(2/n) * np.sum(X * (y - y_pred))  # Partial derivative w.r.t. w\n",
    "        db = -(2/n) * np.sum(y - y_pred)       # Partial derivative w.r.t. b\n",
    "        \n",
    "        # Update parameters\n",
    "        w -= learning_rate * dw\n",
    "        b -= learning_rate * db\n",
    "        \n",
    "    return w, b, losses"
   ]
  },
  {
   "cell_type": "code",
   "execution_count": 45,
   "id": "fcb6c8e5-87ee-4a7f-a543-2846d87facb5",
   "metadata": {},
   "outputs": [
    {
     "name": "stdout",
     "output_type": "stream",
     "text": [
      "Weight (slope): 0.8878301309464329\n",
      "Bias (intercept): 0.31995272365832295\n",
      "Final Loss: 0.08909070442205719\n"
     ]
    }
   ],
   "source": [
    "# Dataset\n",
    "X = df1['package']\n",
    "y = df1['y_pred']\n",
    "\n",
    "# Perform gradient descent\n",
    "learning_rate = 0.001\n",
    "epochs = 1000\n",
    "\n",
    "w, b, losses = gradient_descent(X, y, learning_rate, epochs)\n",
    "\n",
    "print(f\"Weight (slope): {w}\")\n",
    "print(f\"Bias (intercept): {b}\")\n",
    "print(f\"Final Loss: {losses[-1]}\")"
   ]
  },
  {
   "cell_type": "code",
   "execution_count": 46,
   "id": "1ba8e560-0470-4dcc-9ff9-bbd763dc55f6",
   "metadata": {},
   "outputs": [
    {
     "data": {
      "image/png": "[encoded data removed]",
      "text/plain": [
       "<Figure size 640x480 with 1 Axes>"
      ]
     },
     "metadata": {},
     "output_type": "display_data"
    }
   ],
   "source": [
    "plt.plot(losses)\n",
    "plt.title(\"Loss over epochs\")\n",
    "plt.xlabel(\"Epochs\")\n",
    "plt.ylabel(\"Mean Squared Error\")\n",
    "plt.show()"
   ]
  },
  {
   "cell_type": "code",
   "execution_count": 47,
   "id": "d995b623-77b0-45aa-9f79-271d7259f3ff",
   "metadata": {},
   "outputs": [
    {
     "data": {
      "text/html": [
       "<div>\n",
       "<style scoped>\n",
       "    .dataframe tbody tr th:only-of-type {\n",
       "        vertical-align: middle;\n",
       "    }\n",
       "\n",
       "    .dataframe tbody tr th {\n",
       "        vertical-align: top;\n",
       "    }\n",
       "\n",
       "    .dataframe thead th {\n",
       "        text-align: right;\n",
       "    }\n",
       "</style>\n",
       "<table border=\"1\" class=\"dataframe\">\n",
       "  <thead>\n",
       "    <tr style=\"text-align: right;\">\n",
       "      <th></th>\n",
       "      <th>cgpa</th>\n",
       "      <th>package</th>\n",
       "      <th>XY</th>\n",
       "      <th>X^2</th>\n",
       "      <th>y_pred</th>\n",
       "      <th>y_pred_grad</th>\n",
       "    </tr>\n",
       "  </thead>\n",
       "  <tbody>\n",
       "    <tr>\n",
       "      <th>0</th>\n",
       "      <td>6.89</td>\n",
       "      <td>3.26</td>\n",
       "      <td>22.4614</td>\n",
       "      <td>47.4721</td>\n",
       "      <td>2.938806</td>\n",
       "      <td>5.666804</td>\n",
       "    </tr>\n",
       "    <tr>\n",
       "      <th>1</th>\n",
       "      <td>5.12</td>\n",
       "      <td>1.98</td>\n",
       "      <td>10.1376</td>\n",
       "      <td>26.2144</td>\n",
       "      <td>1.930629</td>\n",
       "      <td>4.276309</td>\n",
       "    </tr>\n",
       "    <tr>\n",
       "      <th>2</th>\n",
       "      <td>7.82</td>\n",
       "      <td>3.25</td>\n",
       "      <td>25.4150</td>\n",
       "      <td>61.1524</td>\n",
       "      <td>3.468526</td>\n",
       "      <td>6.397402</td>\n",
       "    </tr>\n",
       "    <tr>\n",
       "      <th>3</th>\n",
       "      <td>7.42</td>\n",
       "      <td>3.67</td>\n",
       "      <td>27.2314</td>\n",
       "      <td>55.0564</td>\n",
       "      <td>3.240689</td>\n",
       "      <td>6.083166</td>\n",
       "    </tr>\n",
       "    <tr>\n",
       "      <th>4</th>\n",
       "      <td>6.94</td>\n",
       "      <td>3.57</td>\n",
       "      <td>24.7758</td>\n",
       "      <td>48.1636</td>\n",
       "      <td>2.967286</td>\n",
       "      <td>5.706083</td>\n",
       "    </tr>\n",
       "    <tr>\n",
       "      <th>...</th>\n",
       "      <td>...</td>\n",
       "      <td>...</td>\n",
       "      <td>...</td>\n",
       "      <td>...</td>\n",
       "      <td>...</td>\n",
       "      <td>...</td>\n",
       "    </tr>\n",
       "    <tr>\n",
       "      <th>195</th>\n",
       "      <td>6.93</td>\n",
       "      <td>2.46</td>\n",
       "      <td>17.0478</td>\n",
       "      <td>48.0249</td>\n",
       "      <td>2.961590</td>\n",
       "      <td>5.698227</td>\n",
       "    </tr>\n",
       "    <tr>\n",
       "      <th>196</th>\n",
       "      <td>5.89</td>\n",
       "      <td>2.57</td>\n",
       "      <td>15.1373</td>\n",
       "      <td>34.6921</td>\n",
       "      <td>2.369215</td>\n",
       "      <td>4.881213</td>\n",
       "    </tr>\n",
       "    <tr>\n",
       "      <th>197</th>\n",
       "      <td>7.21</td>\n",
       "      <td>3.24</td>\n",
       "      <td>23.3604</td>\n",
       "      <td>51.9841</td>\n",
       "      <td>3.121075</td>\n",
       "      <td>5.918192</td>\n",
       "    </tr>\n",
       "    <tr>\n",
       "      <th>198</th>\n",
       "      <td>7.63</td>\n",
       "      <td>3.96</td>\n",
       "      <td>30.2148</td>\n",
       "      <td>58.2169</td>\n",
       "      <td>3.360304</td>\n",
       "      <td>6.248140</td>\n",
       "    </tr>\n",
       "    <tr>\n",
       "      <th>199</th>\n",
       "      <td>6.22</td>\n",
       "      <td>2.33</td>\n",
       "      <td>14.4926</td>\n",
       "      <td>38.6884</td>\n",
       "      <td>2.557180</td>\n",
       "      <td>5.140458</td>\n",
       "    </tr>\n",
       "  </tbody>\n",
       "</table>\n",
       "<p>200 rows × 6 columns</p>\n",
       "</div>"
      ],
      "text/plain": [
       "     cgpa  package       XY      X^2    y_pred  y_pred_grad\n",
       "0    6.89     3.26  22.4614  47.4721  2.938806     5.666804\n",
       "1    5.12     1.98  10.1376  26.2144  1.930629     4.276309\n",
       "2    7.82     3.25  25.4150  61.1524  3.468526     6.397402\n",
       "3    7.42     3.67  27.2314  55.0564  3.240689     6.083166\n",
       "4    6.94     3.57  24.7758  48.1636  2.967286     5.706083\n",
       "..    ...      ...      ...      ...       ...          ...\n",
       "195  6.93     2.46  17.0478  48.0249  2.961590     5.698227\n",
       "196  5.89     2.57  15.1373  34.6921  2.369215     4.881213\n",
       "197  7.21     3.24  23.3604  51.9841  3.121075     5.918192\n",
       "198  7.63     3.96  30.2148  58.2169  3.360304     6.248140\n",
       "199  6.22     2.33  14.4926  38.6884  2.557180     5.140458\n",
       "\n",
       "[200 rows x 6 columns]"
      ]
     },
     "execution_count": 47,
     "metadata": {},
     "output_type": "execute_result"
    }
   ],
   "source": [
    "df1"
   ]
  },
  {
   "cell_type": "code",
   "execution_count": 48,
   "id": "10f4511b-852d-4324-8f68-33c5cce54c9a",
   "metadata": {},
   "outputs": [],
   "source": [
    "def predict_y_grad(row):\n",
    "    y_pred = b+w*row['cgpa']\n",
    "    return y_pred"
   ]
  },
  {
   "cell_type": "code",
   "execution_count": 49,
   "id": "8c4647f1-4659-4152-b63d-843680da074c",
   "metadata": {},
   "outputs": [],
   "source": [
    "df1['y_pred_grad']= df1.apply(predict_y_grad,axis=1)"
   ]
  },
  {
   "cell_type": "code",
   "execution_count": 50,
   "id": "ee85e26a-0666-4896-9ea6-5d102d537bda",
   "metadata": {},
   "outputs": [
    {
     "data": {
      "text/html": [
       "<div>\n",
       "<style scoped>\n",
       "    .dataframe tbody tr th:only-of-type {\n",
       "        vertical-align: middle;\n",
       "    }\n",
       "\n",
       "    .dataframe tbody tr th {\n",
       "        vertical-align: top;\n",
       "    }\n",
       "\n",
       "    .dataframe thead th {\n",
       "        text-align: right;\n",
       "    }\n",
       "</style>\n",
       "<table border=\"1\" class=\"dataframe\">\n",
       "  <thead>\n",
       "    <tr style=\"text-align: right;\">\n",
       "      <th></th>\n",
       "      <th>cgpa</th>\n",
       "      <th>package</th>\n",
       "      <th>XY</th>\n",
       "      <th>X^2</th>\n",
       "      <th>y_pred</th>\n",
       "      <th>y_pred_grad</th>\n",
       "    </tr>\n",
       "  </thead>\n",
       "  <tbody>\n",
       "    <tr>\n",
       "      <th>0</th>\n",
       "      <td>6.89</td>\n",
       "      <td>3.26</td>\n",
       "      <td>22.4614</td>\n",
       "      <td>47.4721</td>\n",
       "      <td>2.938806</td>\n",
       "      <td>6.437102</td>\n",
       "    </tr>\n",
       "    <tr>\n",
       "      <th>1</th>\n",
       "      <td>5.12</td>\n",
       "      <td>1.98</td>\n",
       "      <td>10.1376</td>\n",
       "      <td>26.2144</td>\n",
       "      <td>1.930629</td>\n",
       "      <td>4.865643</td>\n",
       "    </tr>\n",
       "    <tr>\n",
       "      <th>2</th>\n",
       "      <td>7.82</td>\n",
       "      <td>3.25</td>\n",
       "      <td>25.4150</td>\n",
       "      <td>61.1524</td>\n",
       "      <td>3.468526</td>\n",
       "      <td>7.262784</td>\n",
       "    </tr>\n",
       "    <tr>\n",
       "      <th>3</th>\n",
       "      <td>7.42</td>\n",
       "      <td>3.67</td>\n",
       "      <td>27.2314</td>\n",
       "      <td>55.0564</td>\n",
       "      <td>3.240689</td>\n",
       "      <td>6.907652</td>\n",
       "    </tr>\n",
       "    <tr>\n",
       "      <th>4</th>\n",
       "      <td>6.94</td>\n",
       "      <td>3.57</td>\n",
       "      <td>24.7758</td>\n",
       "      <td>48.1636</td>\n",
       "      <td>2.967286</td>\n",
       "      <td>6.481494</td>\n",
       "    </tr>\n",
       "    <tr>\n",
       "      <th>...</th>\n",
       "      <td>...</td>\n",
       "      <td>...</td>\n",
       "      <td>...</td>\n",
       "      <td>...</td>\n",
       "      <td>...</td>\n",
       "      <td>...</td>\n",
       "    </tr>\n",
       "    <tr>\n",
       "      <th>195</th>\n",
       "      <td>6.93</td>\n",
       "      <td>2.46</td>\n",
       "      <td>17.0478</td>\n",
       "      <td>48.0249</td>\n",
       "      <td>2.961590</td>\n",
       "      <td>6.472616</td>\n",
       "    </tr>\n",
       "    <tr>\n",
       "      <th>196</th>\n",
       "      <td>5.89</td>\n",
       "      <td>2.57</td>\n",
       "      <td>15.1373</td>\n",
       "      <td>34.6921</td>\n",
       "      <td>2.369215</td>\n",
       "      <td>5.549272</td>\n",
       "    </tr>\n",
       "    <tr>\n",
       "      <th>197</th>\n",
       "      <td>7.21</td>\n",
       "      <td>3.24</td>\n",
       "      <td>23.3604</td>\n",
       "      <td>51.9841</td>\n",
       "      <td>3.121075</td>\n",
       "      <td>6.721208</td>\n",
       "    </tr>\n",
       "    <tr>\n",
       "      <th>198</th>\n",
       "      <td>7.63</td>\n",
       "      <td>3.96</td>\n",
       "      <td>30.2148</td>\n",
       "      <td>58.2169</td>\n",
       "      <td>3.360304</td>\n",
       "      <td>7.094097</td>\n",
       "    </tr>\n",
       "    <tr>\n",
       "      <th>199</th>\n",
       "      <td>6.22</td>\n",
       "      <td>2.33</td>\n",
       "      <td>14.4926</td>\n",
       "      <td>38.6884</td>\n",
       "      <td>2.557180</td>\n",
       "      <td>5.842256</td>\n",
       "    </tr>\n",
       "  </tbody>\n",
       "</table>\n",
       "<p>200 rows × 6 columns</p>\n",
       "</div>"
      ],
      "text/plain": [
       "     cgpa  package       XY      X^2    y_pred  y_pred_grad\n",
       "0    6.89     3.26  22.4614  47.4721  2.938806     6.437102\n",
       "1    5.12     1.98  10.1376  26.2144  1.930629     4.865643\n",
       "2    7.82     3.25  25.4150  61.1524  3.468526     7.262784\n",
       "3    7.42     3.67  27.2314  55.0564  3.240689     6.907652\n",
       "4    6.94     3.57  24.7758  48.1636  2.967286     6.481494\n",
       "..    ...      ...      ...      ...       ...          ...\n",
       "195  6.93     2.46  17.0478  48.0249  2.961590     6.472616\n",
       "196  5.89     2.57  15.1373  34.6921  2.369215     5.549272\n",
       "197  7.21     3.24  23.3604  51.9841  3.121075     6.721208\n",
       "198  7.63     3.96  30.2148  58.2169  3.360304     7.094097\n",
       "199  6.22     2.33  14.4926  38.6884  2.557180     5.842256\n",
       "\n",
       "[200 rows x 6 columns]"
      ]
     },
     "execution_count": 50,
     "metadata": {},
     "output_type": "execute_result"
    }
   ],
   "source": [
    "df1"
   ]
  },
  {
   "cell_type": "code",
   "execution_count": 52,
   "id": "569d44ac-b1ba-4fcf-bd73-c707387835df",
   "metadata": {},
   "outputs": [],
   "source": [
    "from sklearn.metrics import r2_score"
   ]
  },
  {
   "cell_type": "code",
   "execution_count": 53,
   "id": "cdfc40f8-84ed-4e49-afe2-f65f3e1051d1",
   "metadata": {},
   "outputs": [
    {
     "name": "stdout",
     "output_type": "stream",
     "text": [
      "R^2 Score: -25.6501\n"
     ]
    }
   ],
   "source": [
    "# Example\n",
    "y_true_grad = df1['package']\n",
    "y_pred_grad = df1['y_pred_grad']\n",
    "r2 = r2_score(y_true_grad, y_pred_grad)\n",
    "print(f\"R^2 Score: {r2:.4f}\")"
   ]
  },
  {
   "cell_type": "code",
   "execution_count": null,
   "id": "1e1365b9-1c5a-4923-8d5c-87edc732721e",
   "metadata": {},
   "outputs": [],
   "source": []
  }
 ],
 "metadata": {
  "kernelspec": {
   "display_name": "Python 3 (ipykernel)",
   "language": "python",
   "name": "python3"
  },
  "language_info": {
   "codemirror_mode": {
    "name": "ipython",
    "version": 3
   },
   "file_extension": ".py",
   "mimetype": "text/x-python",
   "name": "python",
   "nbconvert_exporter": "python",
   "pygments_lexer": "ipython3",
   "version": "3.12.7"
  }
 },
 "nbformat": 4,
 "nbformat_minor": 5
}
